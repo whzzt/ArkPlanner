{
 "cells": [
  {
   "cell_type": "code",
   "execution_count": 3,
   "metadata": {},
   "outputs": [],
   "source": [
    "from MaterialPlanning import MaterialPlanning\n",
    "mp = MaterialPlanning()"
   ]
  },
  {
   "cell_type": "code",
   "execution_count": 9,
   "metadata": {
    "scrolled": false
   },
   "outputs": [
    {
     "name": "stdout",
     "output_type": "stream",
     "text": [
      "Optimization terminated successfully, Computed in 0.0441 seconds,\n",
      "Estimated total cost 1598\n",
      "Looting at stages:\n",
      "3-1, 5 times, available items: 代糖 糖 异铁 双酮 酮凝集 酮凝集组\n",
      "4-10, 9 times, available items: 源岩 固源岩 装置 全新装置 赤金\n",
      "1-7, 59 times, available items: 源岩 固源岩 基础作战记录\n",
      "2-10, 47 times, available items: 代糖 糖 双酮 酮凝集 RMA70-12 基础作战记录\n",
      "S3-1, 12 times, available items: 代糖 糖 异铁碎片 双酮 酮凝集 初级作战记录\n",
      "Synthesize items:\n",
      "双极纳米片 for 4 times from: 改量装置 (4)  白马醇 (8) \n",
      "RMA70-24 for 5 times from: RMA70-12 (5)  固源岩组 (10)  酮凝集组 (5) \n",
      "白马醇 for 8 times from: 扭转醇 (8)  糖组 (8)  RMA70-12 (8) \n",
      "改量装置 for 3 times from: 全新装置 (3)  固源岩组 (6)  研磨石 (3) \n",
      "酮凝集组 for 2 times from: 酮凝集 (8) \n",
      "糖组 for 7 times from: 糖 (28) \n",
      "固源岩组 for 16 times from: 固源岩 (80) \n",
      "酮凝集 for 4 times from: 双酮 (12) \n",
      "糖 for 4 times from: 代糖 (12) \n",
      "固源岩 for 3 times from: 源岩 (9) \n"
     ]
    }
   ],
   "source": [
    "requirement = {'双极纳米片':4, 'RMA70-24':5}\n",
    "owned = {'扭转醇':58, '研磨石':45}\n",
    "mp.get_plan(requirement, owned)"
   ]
  },
  {
   "cell_type": "code",
   "execution_count": 5,
   "metadata": {
    "scrolled": false
   },
   "outputs": [
    {
     "name": "stdout",
     "output_type": "stream",
     "text": [
      "Optimization terminated successfully, Computed in 0.0469 seconds,\n",
      "Estimated total cost 1336\n",
      "Looting at stages:\n",
      "4-5, 16 times, available items: 酯原料 双酮 酮凝集组\n",
      "3-4, 9 times, available items: 源岩 固源岩 全新装置 酯原料 聚酸酯 赤金\n",
      "3-2, 8 times, available items: 源岩 固源岩 酯原料 聚酸酯 轻锰矿 赤金\n",
      "4-2, 2 times, available items: 代糖 糖 糖组 异铁碎片 异铁\n",
      "S4-1, 16 times, available items: 代糖 糖 异铁碎片 异铁 异铁组\n",
      "1-7, 56 times, available items: 源岩 固源岩 基础作战记录\n",
      "2-6, 2 times, available items: 源岩 破损装置 酯原料 聚酸酯组 基础作战记录\n",
      "Synthesize items:\n",
      "聚合剂 for 4 times from: 提纯源岩 (4)  异铁块 (4)  酮阵列 (4) \n",
      "酮阵列 for 3 times from: 酮凝集组 (6)  糖组 (3)  轻锰矿 (3) \n",
      "异铁块 for 3 times from: 异铁组 (6)  全新装置 (3)  聚酸酯组 (3) \n",
      "提纯源岩 for 4 times from: 固源岩组 (16) \n",
      "酮凝集组 for 1 times from: 酮凝集 (4) \n",
      "异铁组 for 1 times from: 异铁 (4) \n",
      "聚酸酯组 for 2 times from: 聚酸酯 (8) \n",
      "糖组 for 1 times from: 糖 (4) \n",
      "固源岩组 for 16 times from: 固源岩 (80) \n",
      "装置 for 1 times from: 破损装置 (3) \n",
      "酮凝集 for 3 times from: 双酮 (9) \n",
      "异铁 for 1 times from: 异铁碎片 (3) \n",
      "聚酸酯 for 4 times from: 酯原料 (12) \n",
      "糖 for 2 times from: 代糖 (6) \n",
      "固源岩 for 4 times from: 源岩 (12) \n"
     ]
    }
   ],
   "source": [
    "requirement_dct = {'聚合剂':4}\n",
    "mp.get_plan(requirement_dct)"
   ]
  },
  {
   "cell_type": "code",
   "execution_count": 10,
   "metadata": {},
   "outputs": [
    {
     "name": "stdout",
     "output_type": "stream",
     "text": [
      "Optimization terminated successfully, Computed in 0.0429 seconds,\n",
      "Estimated total cost 568\n",
      "Looting at stages:\n",
      "GT-5, 37 times, available items: 扭转醇\n",
      "Synthesize items:\n"
     ]
    }
   ],
   "source": [
    "requirement_dct = {'扭转醇':25}\n",
    "mp.get_plan(requirement_dct)"
   ]
  },
  {
   "cell_type": "code",
   "execution_count": 11,
   "metadata": {
    "scrolled": true
   },
   "outputs": [
    {
     "name": "stdout",
     "output_type": "stream",
     "text": [
      "Optimization terminated successfully, Computed in 0.0440 seconds,\n",
      "Estimated total cost 575\n",
      "Looting at stages:\n",
      "2-8, 36 times, available items: 代糖 异铁碎片 异铁组 双酮 基础作战记录\n",
      "3-2, 8 times, available items: 源岩 固源岩 酯原料 聚酸酯 轻锰矿 赤金\n",
      "1-7, 2 times, available items: 源岩 固源岩 基础作战记录\n",
      "Synthesize items:\n",
      "异铁组 for 1 times from: 异铁 (4) \n",
      "异铁 for 3 times from: 异铁碎片 (9) \n"
     ]
    }
   ],
   "source": [
    "requirement_dct = {'异铁组':10, '轻锰矿':3, '固源岩':5}\n",
    "mp.get_plan(requirement_dct)"
   ]
  }
 ],
 "metadata": {
  "kernelspec": {
   "display_name": "Python 3",
   "language": "python",
   "name": "python3"
  },
  "language_info": {
   "codemirror_mode": {
    "name": "ipython",
    "version": 3
   },
   "file_extension": ".py",
   "mimetype": "text/x-python",
   "name": "python",
   "nbconvert_exporter": "python",
   "pygments_lexer": "ipython3",
   "version": "3.7.2"
  },
  "varInspector": {
   "cols": {
    "lenName": 16,
    "lenType": 16,
    "lenVar": 40
   },
   "kernels_config": {
    "python": {
     "delete_cmd_postfix": "",
     "delete_cmd_prefix": "del ",
     "library": "var_list.py",
     "varRefreshCmd": "print(var_dic_list())"
    },
    "r": {
     "delete_cmd_postfix": ") ",
     "delete_cmd_prefix": "rm(",
     "library": "var_list.r",
     "varRefreshCmd": "cat(var_dic_list()) "
    }
   },
   "types_to_exclude": [
    "module",
    "function",
    "builtin_function_or_method",
    "instance",
    "_Feature"
   ],
   "window_display": false
  }
 },
 "nbformat": 4,
 "nbformat_minor": 2
}
